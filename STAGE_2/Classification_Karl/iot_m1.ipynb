{
 "cells": [
  {
   "cell_type": "code",
   "execution_count": 1,
   "metadata": {},
   "outputs": [],
   "source": [
    "#import libarary\n",
    "import numpy as np\n",
    "import pandas as pd\n",
    "import matplotlib.pyplot as plt"
   ]
  },
  {
   "cell_type": "code",
   "execution_count": 2,
   "metadata": {},
   "outputs": [],
   "source": [
    "#read data from csv\n",
    "data_title = ['date','time','type','state','location','BE']\n",
    "data = pd.read_csv('dataset.csv',header = None, names=data_title)"
   ]
  },
  {
   "cell_type": "code",
   "execution_count": 3,
   "metadata": {},
   "outputs": [
    {
     "data": {
      "text/plain": [
       "Index(['date', 'time', 'type', 'state', 'location', 'BE'], dtype='object')"
      ]
     },
     "execution_count": 3,
     "metadata": {},
     "output_type": "execute_result"
    }
   ],
   "source": [
    "data.columns"
   ]
  },
  {
   "cell_type": "code",
   "execution_count": 4,
   "metadata": {},
   "outputs": [
    {
     "data": {
      "text/plain": [
       "array(['R1_Bed_to_Toilet', nan, 'R1_Personal_Hygiene', 'R2_Bed_to_Toilet',\n",
       "       'Meal_Preparation', 'R2_Personal_Hygiene', 'Watch_TV', 'R1_Work',\n",
       "       'R2_Work', 'R1_Sleep', 'R2_Sleep', 'Wash_Bathtub', 'Clean',\n",
       "       'Study', 'R1_Bed_to_Toilet_begin', 'R1_Bed_to_Toilet_end'],\n",
       "      dtype=object)"
      ]
     },
     "execution_count": 4,
     "metadata": {},
     "output_type": "execute_result"
    }
   ],
   "source": [
    "pd.unique(data['location'])"
   ]
  },
  {
   "cell_type": "code",
   "execution_count": 5,
   "metadata": {},
   "outputs": [],
   "source": [
    "data_ad = data.copy()"
   ]
  },
  {
   "cell_type": "code",
   "execution_count": 6,
   "metadata": {},
   "outputs": [],
   "source": [
    "data_ad = data_ad.drop_duplicates()#drop the duplicated values\n",
    "data_ad = data_ad.dropna(subset=['date', 'time'])#drop the NaN values"
   ]
  },
  {
   "cell_type": "code",
   "execution_count": 7,
   "metadata": {},
   "outputs": [],
   "source": [
    "data_ad = data_ad[:-1]#drop the error data value"
   ]
  },
  {
   "cell_type": "code",
   "execution_count": 8,
   "metadata": {},
   "outputs": [],
   "source": [
    "data_ad = data_ad.reset_index(drop=True)"
   ]
  },
  {
   "cell_type": "code",
   "execution_count": 9,
   "metadata": {},
   "outputs": [],
   "source": [
    "def find_strange_time(data_ad):\n",
    "    for i in range(data_ad.shape[0]):\n",
    "        if len(str(data_ad['time'][i])) != 8:\n",
    "            print(i)\n",
    "        pass"
   ]
  },
  {
   "cell_type": "code",
   "execution_count": 10,
   "metadata": {},
   "outputs": [
    {
     "name": "stdout",
     "output_type": "stream",
     "text": [
      "70786\n"
     ]
    }
   ],
   "source": [
    "find_strange_time(data_ad)"
   ]
  },
  {
   "cell_type": "code",
   "execution_count": 11,
   "metadata": {},
   "outputs": [],
   "source": [
    "data_ad = data_ad.drop(70786)\n",
    "data_ad = data_ad.reset_index(drop=True)"
   ]
  },
  {
   "cell_type": "code",
   "execution_count": 12,
   "metadata": {},
   "outputs": [],
   "source": [
    "x_date  = data_ad['date']\n",
    "x_time  = data_ad['time']\n",
    "x       = x_date + '/' + x_time"
   ]
  },
  {
   "cell_type": "code",
   "execution_count": 13,
   "metadata": {},
   "outputs": [
    {
     "data": {
      "text/plain": [
       "0         02/02/2009/07:15:17\n",
       "1         02/02/2009/07:15:21\n",
       "2         02/02/2009/07:15:23\n",
       "3         02/02/2009/07:15:23\n",
       "4         02/02/2009/07:15:28\n",
       "                 ...         \n",
       "137874    04/04/2009/07:26:16\n",
       "137875    04/04/2009/07:27:47\n",
       "137876    04/04/2009/07:27:50\n",
       "137877    04/04/2009/07:27:59\n",
       "137878    04/04/2009/07:28:01\n",
       "Length: 137879, dtype: object"
      ]
     },
     "execution_count": 13,
     "metadata": {},
     "output_type": "execute_result"
    }
   ],
   "source": [
    "x"
   ]
  },
  {
   "cell_type": "code",
   "execution_count": 14,
   "metadata": {},
   "outputs": [
    {
     "data": {
      "text/plain": [
       "0        2009-02-02 07:15:17\n",
       "1        2009-02-02 07:15:21\n",
       "2        2009-02-02 07:15:23\n",
       "3        2009-02-02 07:15:23\n",
       "4        2009-02-02 07:15:28\n",
       "                 ...        \n",
       "137874   2009-04-04 07:26:16\n",
       "137875   2009-04-04 07:27:47\n",
       "137876   2009-04-04 07:27:50\n",
       "137877   2009-04-04 07:27:59\n",
       "137878   2009-04-04 07:28:01\n",
       "Length: 137879, dtype: datetime64[ns]"
      ]
     },
     "execution_count": 14,
     "metadata": {},
     "output_type": "execute_result"
    }
   ],
   "source": [
    "pd.to_datetime(x,format= '%d/%m/%Y/%H:%M:%S')"
   ]
  },
  {
   "cell_type": "code",
   "execution_count": 15,
   "metadata": {},
   "outputs": [],
   "source": [
    "data_ad.to_pickle('dataset_modified.pkl')"
   ]
  },
  {
   "cell_type": "code",
   "execution_count": 16,
   "metadata": {},
   "outputs": [],
   "source": [
    "data_ad.to_csv('dataset_modified.csv')"
   ]
  },
  {
   "cell_type": "code",
   "execution_count": 88,
   "metadata": {},
   "outputs": [],
   "source": [
    "data_ad = pd.read_pickle('dataset_modified.pkl')"
   ]
  },
  {
   "cell_type": "code",
   "execution_count": 89,
   "metadata": {},
   "outputs": [
    {
     "data": {
      "text/plain": [
       "array(['R1_Bed_to_Toilet', nan, 'R1_Personal_Hygiene', 'R2_Bed_to_Toilet',\n",
       "       'Meal_Preparation', 'R2_Personal_Hygiene', 'Watch_TV', 'R1_Work',\n",
       "       'R2_Work', 'R1_Sleep', 'R2_Sleep', 'Wash_Bathtub', 'Clean',\n",
       "       'Study', 'R1_Bed_to_Toilet_begin', 'R1_Bed_to_Toilet_end'],\n",
       "      dtype=object)"
      ]
     },
     "execution_count": 89,
     "metadata": {},
     "output_type": "execute_result"
    }
   ],
   "source": [
    "data_ad['location'].unique()"
   ]
  },
  {
   "cell_type": "code",
   "execution_count": 90,
   "metadata": {},
   "outputs": [],
   "source": [
    "for i in range(len(data_ad['location'])):\n",
    "    if data_ad['location'][i] == 'R1_Bed_to_Toilet_begin':\n",
    "        data_ad['location'][i] = 'R1_Bed_to_Toilet'\n",
    "        data_ad['BE'][i] = 'begin'\n",
    "        pass\n",
    "\n",
    "    if data_ad['location'][i] == 'R1_Bed_to_Toilet_end':\n",
    "        data_ad['location'][i] = 'R1_Bed_to_Toilet'\n",
    "        data_ad['BE'][i] = 'end'\n",
    "        pass"
   ]
  },
  {
   "cell_type": "code",
   "execution_count": 91,
   "metadata": {},
   "outputs": [
    {
     "data": {
      "text/plain": [
       "array(['R1_Bed_to_Toilet', nan, 'R1_Personal_Hygiene', 'R2_Bed_to_Toilet',\n",
       "       'Meal_Preparation', 'R2_Personal_Hygiene', 'Watch_TV', 'R1_Work',\n",
       "       'R2_Work', 'R1_Sleep', 'R2_Sleep', 'Wash_Bathtub', 'Clean',\n",
       "       'Study'], dtype=object)"
      ]
     },
     "execution_count": 91,
     "metadata": {},
     "output_type": "execute_result"
    }
   ],
   "source": [
    "data_ad['location'].unique()"
   ]
  },
  {
   "cell_type": "code",
   "execution_count": 92,
   "metadata": {},
   "outputs": [
    {
     "data": {
      "text/plain": [
       "end      517\n",
       "begin    514\n",
       "Name: BE, dtype: int64"
      ]
     },
     "execution_count": 92,
     "metadata": {},
     "output_type": "execute_result"
    }
   ],
   "source": [
    "data_ad['BE'].value_counts()"
   ]
  },
  {
   "cell_type": "code",
   "execution_count": 93,
   "metadata": {},
   "outputs": [],
   "source": [
    "i0=[]\n",
    "name = ['R1_Bed_to_Toilet','R1_Personal_Hygiene', 'R2_Bed_to_Toilet',\n",
    "       'Meal_Preparation', 'R2_Personal_Hygiene', 'Watch_TV', 'R1_Work',\n",
    "       'R2_Work', 'R1_Sleep', 'R2_Sleep', 'Wash_Bathtub', 'Clean',\n",
    "       'Study']"
   ]
  },
  {
   "cell_type": "code",
   "execution_count": 94,
   "metadata": {},
   "outputs": [
    {
     "name": "stdout",
     "output_type": "stream",
     "text": [
      "Meal_Preparation end error: 130951 131288\n",
      "R1_Work end error: 123781 126627\n",
      "R1_Work end error: 132937 134089\n",
      "R2_Work end error: 69613 71185\n",
      "R2_Work begin error: 125666 127423\n"
     ]
    }
   ],
   "source": [
    "for j in range(len(name)):\n",
    "    temp=[0,0]\n",
    "    cnt = 0\n",
    "    flag = 0\n",
    "    for i in range(data_ad.shape[0] - 2):\n",
    "        if data_ad['location'][i] == name[j]:\n",
    "            temp[cnt] = data_ad['BE'][i]\n",
    "            i0.append(i)\n",
    "            if cnt == 0:\n",
    "                cnt = 1\n",
    "            else:\n",
    "                cnt = 0\n",
    "            if temp[0] == 'end' and temp[1] == 'end':\n",
    "                print(name[j], 'end error:',i0[-2], i)\n",
    "                for k in range(i0[-2] + 1, i-1):\n",
    "                    if data_ad['location'][k] != 'NaN':\n",
    "                        flag = 1\n",
    "                        break\n",
    "                if flag == 1:\n",
    "                    data_ad = data_ad.drop(i)\n",
    "                else:\n",
    "                    data_ad = data_ad.drop(i0[-2])\n",
    "                data_ad = data_ad.reset_index(drop = True)\n",
    "                flag = 0;\n",
    "            elif temp[0] == 'begin' and temp[1] == 'begin':\n",
    "                print(name[j], 'begin error:',i0[-2], i)\n",
    "                for k in range(i0[-2] + 1, i-1):\n",
    "                    if data_ad['location'][k] != 'NaN':\n",
    "                        flag = 1\n",
    "                        break\n",
    "                if flag == 1:\n",
    "                    data_ad = data_ad.drop(i0[-2])\n",
    "                else:\n",
    "                    data_ad = data_ad.drop(i)\n",
    "                data_ad = data_ad.reset_index(drop = True)\n",
    "                flag = 0;"
   ]
  },
  {
   "cell_type": "code",
   "execution_count": 95,
   "metadata": {},
   "outputs": [
    {
     "data": {
      "text/plain": [
       "begin    513\n",
       "end      513\n",
       "Name: BE, dtype: int64"
      ]
     },
     "execution_count": 95,
     "metadata": {},
     "output_type": "execute_result"
    }
   ],
   "source": [
    "data_ad['BE'].value_counts()"
   ]
  },
  {
   "cell_type": "code",
   "execution_count": 96,
   "metadata": {},
   "outputs": [
    {
     "data": {
      "text/plain": [
       "50"
      ]
     },
     "execution_count": 96,
     "metadata": {},
     "output_type": "execute_result"
    }
   ],
   "source": [
    "ord(data_ad['state'][1][0])"
   ]
  },
  {
   "cell_type": "code",
   "execution_count": 108,
   "metadata": {},
   "outputs": [],
   "source": [
    "def detect_state(data_ad):\n",
    "    temp = []\n",
    "    for i in range(len(data_ad['state'])):\n",
    "        if ord(data_ad['state'][i][0]) >= 65 and ord(data_ad['state'][i][0]) <= 90:\n",
    "            temp.append(data_ad['state'][i])\n",
    "\n",
    "    df_temp = pd.Series(temp)\n",
    "    return df_temp.unique()"
   ]
  },
  {
   "cell_type": "code",
   "execution_count": 97,
   "metadata": {},
   "outputs": [],
   "source": [
    "temp = []\n",
    "for i in range(len(data_ad['state'])):\n",
    "    if ord(data_ad['state'][i][0]) >= 65 and ord(data_ad['state'][i][0]) <= 90:\n",
    "        temp.append(data_ad['state'][i])"
   ]
  },
  {
   "cell_type": "code",
   "execution_count": 98,
   "metadata": {},
   "outputs": [],
   "source": [
    "df_temp = pd.Series(temp)"
   ]
  },
  {
   "cell_type": "code",
   "execution_count": 99,
   "metadata": {},
   "outputs": [
    {
     "data": {
      "text/plain": [
       "array(['ON', 'OFF', 'OPEN', 'CLOSE', 'ABSENT', 'PRESENT', 'ONF', 'OF',\n",
       "       'O', 'OFFF'], dtype=object)"
      ]
     },
     "execution_count": 99,
     "metadata": {},
     "output_type": "execute_result"
    }
   ],
   "source": [
    "df_temp.unique()"
   ]
  },
  {
   "cell_type": "code",
   "execution_count": 101,
   "metadata": {},
   "outputs": [],
   "source": [
    "data_ad0 = data_ad.copy()"
   ]
  },
  {
   "cell_type": "code",
   "execution_count": 102,
   "metadata": {},
   "outputs": [],
   "source": [
    "data_ad0['state'] = data_ad0['state'].replace('O','ON')\n",
    "data_ad0['state'] = data_ad0['state'].replace('ONF','ON')\n",
    "data_ad0['state'] = data_ad0['state'].replace('OF','OFF')\n",
    "data_ad0['state'] = data_ad0['state'].replace('OFFF','OFF')"
   ]
  },
  {
   "cell_type": "code",
   "execution_count": 110,
   "metadata": {},
   "outputs": [
    {
     "data": {
      "text/plain": [
       "array(['ON', 'OFF', 'OPEN', 'CLOSE', 'ABSENT', 'PRESENT'], dtype=object)"
      ]
     },
     "execution_count": 110,
     "metadata": {},
     "output_type": "execute_result"
    }
   ],
   "source": [
    "d_ad0_unique = detect_state(data_ad0)\n",
    "d_ad0_unique"
   ]
  },
  {
   "cell_type": "code",
   "execution_count": 112,
   "metadata": {},
   "outputs": [],
   "source": [
    "data_ad0.to_csv('dataset_modified_v2.csv')\n",
    "data_ad0.to_pickle('dataset_modified_v2.pkl')"
   ]
  },
  {
   "cell_type": "code",
   "execution_count": null,
   "metadata": {},
   "outputs": [],
   "source": [
    "font = {\n",
    "    'family':'Times New Roman',\n",
    "    'weight':'regular',\n",
    "    'size':16\n",
    "}\n",
    "\n",
    "hfont = {\n",
    "    'family':'Times New Roman',\n",
    "    'weight':'bold',\n",
    "    'size':16\n",
    "}\n",
    "\n",
    "color   = ['#2372a9','#ef7c21','#349939','#ca2a28','#8b64a8']\n",
    "blue    = ['#00295f','#1c4476','#c9cddf']\n",
    "\n",
    "plt.rc('font',**font)\n",
    "\n",
    "fig,ax = plt.subplots(figsize = (10,4),dpi=80)\n",
    "ax.plot(x,1,linewidth =2,color = blue[0],label = 'Time line')"
   ]
  },
  {
   "cell_type": "code",
   "execution_count": 113,
   "metadata": {},
   "outputs": [],
   "source": [
    "data_ad1 = pd.read_pickle('dataset_modified_v2.pkl')"
   ]
  },
  {
   "cell_type": "code",
   "execution_count": 115,
   "metadata": {},
   "outputs": [
    {
     "data": {
      "text/plain": [
       "Index(['date', 'time', 'type', 'state', 'location', 'BE'], dtype='object')"
      ]
     },
     "execution_count": 115,
     "metadata": {},
     "output_type": "execute_result"
    }
   ],
   "source": [
    "data_ad1.columns"
   ]
  },
  {
   "cell_type": "code",
   "execution_count": 116,
   "metadata": {},
   "outputs": [
    {
     "data": {
      "text/plain": [
       "array(['M35', 'AD1-A', 'M34', 'M32', 'M33', 'M36', 'M30', 'M29', 'M37',\n",
       "       'M38', 'M39', 'M41', 'M40', 'M49', 'M46', 'M50', 'M44', 'M47',\n",
       "       'M48', 'M43', 'M28', 'M42', 'M27', 'M26', 'M25', 'M24', 'M21',\n",
       "       'M19', 'M18', 'M17', 'M16', 'M15', 'D09', 'M14', 'M13', 'M08',\n",
       "       'M07', 'M02', 'M45', 'M51', 'D08', 'AD1-B', 'AD1-C', 'D10', 'I03',\n",
       "       'M06', 'M09', 'M10', 'M01', 'D12', 'L04', 'M23', 'M31', 'D15',\n",
       "       'D07', 'D14', 'M11', 'M05', 'M03', 'M04', 'M22', 'M12', 'M20',\n",
       "       'L11', 'D05', 'D03', 'L10', 'L06', 'L13', 'L12', 'L09'],\n",
       "      dtype=object)"
      ]
     },
     "execution_count": 116,
     "metadata": {},
     "output_type": "execute_result"
    }
   ],
   "source": [
    "data_ad1['type'].unique()"
   ]
  },
  {
   "cell_type": "code",
   "execution_count": 129,
   "metadata": {},
   "outputs": [],
   "source": [
    "data_ad1_m = data_ad1.loc[data_ad1['type'].str.contains('M')]\n",
    "data_ad1_m = data_ad1_m.loc[data_ad1['state'].str.contains('ON')]"
   ]
  },
  {
   "cell_type": "code",
   "execution_count": 220,
   "metadata": {},
   "outputs": [],
   "source": [
    "M_count = data_ad1_m['type'].value_counts()"
   ]
  },
  {
   "cell_type": "code",
   "execution_count": 221,
   "metadata": {},
   "outputs": [],
   "source": [
    "M_count_S = pd.Series(M_count)"
   ]
  },
  {
   "cell_type": "code",
   "execution_count": 225,
   "metadata": {},
   "outputs": [],
   "source": [
    "M_count_Sm = pd.DataFrame({'sensor':M_count_S.index, 'volume':M_count_S.values})"
   ]
  },
  {
   "cell_type": "code",
   "execution_count": 228,
   "metadata": {},
   "outputs": [],
   "source": [
    "M_count_Sm = M_count_Sm.sort_values(by='sensor').reset_index(drop=True)"
   ]
  },
  {
   "cell_type": "code",
   "execution_count": 276,
   "metadata": {},
   "outputs": [],
   "source": [
    "position_f1 = pd.read_csv('floor1.csv')\n",
    "position_f2 = pd.read_csv('floor2.csv')"
   ]
  },
  {
   "cell_type": "code",
   "execution_count": 277,
   "metadata": {},
   "outputs": [],
   "source": [
    "position_f = pd.concat([position_f1,position_f2])"
   ]
  },
  {
   "cell_type": "code",
   "execution_count": 279,
   "metadata": {},
   "outputs": [],
   "source": [
    "position_fm = position_f.loc[position_f['sensor'].str.contains('M')]\n",
    "position_fm = position_fm.sort_values(by='sensor').reset_index(drop=True)"
   ]
  },
  {
   "cell_type": "code",
   "execution_count": 182,
   "metadata": {},
   "outputs": [],
   "source": [
    "position_f1m = position_f1.loc[position_f1['sensor'].str.contains('M')]\n",
    "position_f2m = position_f2.loc[position_f2['sensor'].str.contains('M')]"
   ]
  },
  {
   "cell_type": "code",
   "execution_count": 196,
   "metadata": {},
   "outputs": [],
   "source": [
    "position_f1m = position_f1m.sort_values(by='sensor').reset_index(drop=True)\n",
    "position_f2m = position_f2m.sort_values(by='sensor').reset_index(drop=True)"
   ]
  },
  {
   "cell_type": "code",
   "execution_count": 231,
   "metadata": {},
   "outputs": [],
   "source": [
    "x1 = position_f1m['X']\n",
    "y1 = 671 - position_f1m['Y']"
   ]
  },
  {
   "cell_type": "code",
   "execution_count": 232,
   "metadata": {},
   "outputs": [],
   "source": [
    "x2 = position_f2m['X']\n",
    "y2 = 671 - position_f2m['Y']"
   ]
  },
  {
   "cell_type": "code",
   "execution_count": 284,
   "metadata": {},
   "outputs": [],
   "source": [
    "x = position_fm['X']\n",
    "y = 671 - position_fm['Y']\n",
    "freq_d1 = M_count_Sm"
   ]
  },
  {
   "cell_type": "code",
   "execution_count": 266,
   "metadata": {},
   "outputs": [
    {
     "data": {
      "text/plain": [
       "30"
      ]
     },
     "execution_count": 266,
     "metadata": {},
     "output_type": "execute_result"
    }
   ],
   "source": [
    "freq_d1['volume'].idxmax()"
   ]
  },
  {
   "cell_type": "code",
   "execution_count": 268,
   "metadata": {},
   "outputs": [
    {
     "data": {
      "text/plain": [
       "'M31'"
      ]
     },
     "execution_count": 268,
     "metadata": {},
     "output_type": "execute_result"
    }
   ],
   "source": [
    "freq_d1['sensor'][30]"
   ]
  },
  {
   "cell_type": "code",
   "execution_count": 289,
   "metadata": {},
   "outputs": [
    {
     "data": {
      "text/plain": [
       "<matplotlib.collections.PathCollection at 0x15ea63a0370>"
      ]
     },
     "execution_count": 289,
     "metadata": {},
     "output_type": "execute_result"
    },
    {
     "data": {
      "image/png": "[encoded data removed]",
      "text/plain": [
       "<Figure size 724.8x537.6 with 1 Axes>"
      ]
     },
     "metadata": {
      "needs_background": "light"
     },
     "output_type": "display_data"
    }
   ],
   "source": [
    "font = {\n",
    "    'family':'Times New Roman',\n",
    "    'weight':'regular',\n",
    "    'size':16\n",
    "}\n",
    "\n",
    "hfont = {\n",
    "    'family':'Times New Roman',\n",
    "    'weight':'bold',\n",
    "    'size':16\n",
    "}\n",
    "\n",
    "color   = ['#2372a9','#ef7c21','#349939','#ca2a28','#8b64a8']\n",
    "blue    = ['#00295f','#1c4476','#c9cddf']\n",
    "\n",
    "plt.rc('font',**font)\n",
    "\n",
    "fig,ax = plt.subplots(figsize = (9.06,6.72),dpi=80)\n",
    "ax.set_xlim(0,906)\n",
    "ax.set_ylim(0,672)\n",
    "ax.scatter(x, y, c= freq_d1['volume'].values, s= freq_d1['volume'].values, alpha=0.5)"
   ]
  },
  {
   "cell_type": "code",
   "execution_count": 290,
   "metadata": {},
   "outputs": [],
   "source": [
    "fig.savefig('motion_v1.svg')"
   ]
  },
  {
   "cell_type": "markdown",
   "metadata": {},
   "source": [
    "time different"
   ]
  },
  {
   "cell_type": "code",
   "execution_count": 323,
   "metadata": {},
   "outputs": [],
   "source": [
    "data_ad2 = pd.read_pickle('dataset_modified_v2.pkl')"
   ]
  },
  {
   "cell_type": "code",
   "execution_count": 324,
   "metadata": {},
   "outputs": [],
   "source": [
    "data_ad2m1 = data_ad2.dropna(subset=['location']).reset_index(drop = True)"
   ]
  },
  {
   "cell_type": "code",
   "execution_count": 333,
   "metadata": {},
   "outputs": [
    {
     "data": {
      "text/html": [
       "<div>\n",
       "<style scoped>\n",
       "    .dataframe tbody tr th:only-of-type {\n",
       "        vertical-align: middle;\n",
       "    }\n",
       "\n",
       "    .dataframe tbody tr th {\n",
       "        vertical-align: top;\n",
       "    }\n",
       "\n",
       "    .dataframe thead th {\n",
       "        text-align: right;\n",
       "    }\n",
       "</style>\n",
       "<table border=\"1\" class=\"dataframe\">\n",
       "  <thead>\n",
       "    <tr style=\"text-align: right;\">\n",
       "      <th></th>\n",
       "      <th>date</th>\n",
       "      <th>time</th>\n",
       "      <th>type</th>\n",
       "      <th>state</th>\n",
       "      <th>location</th>\n",
       "      <th>BE</th>\n",
       "    </tr>\n",
       "  </thead>\n",
       "  <tbody>\n",
       "    <tr>\n",
       "      <th>0</th>\n",
       "      <td>02/02/2009</td>\n",
       "      <td>07:15:17</td>\n",
       "      <td>M35</td>\n",
       "      <td>ON</td>\n",
       "      <td>R1_Bed_to_Toilet</td>\n",
       "      <td>begin</td>\n",
       "    </tr>\n",
       "    <tr>\n",
       "      <th>1</th>\n",
       "      <td>02/02/2009</td>\n",
       "      <td>07:21:04</td>\n",
       "      <td>M41</td>\n",
       "      <td>OFF</td>\n",
       "      <td>R1_Bed_to_Toilet</td>\n",
       "      <td>end</td>\n",
       "    </tr>\n",
       "    <tr>\n",
       "      <th>2</th>\n",
       "      <td>02/02/2009</td>\n",
       "      <td>07:21:04</td>\n",
       "      <td>M40</td>\n",
       "      <td>OFF</td>\n",
       "      <td>R1_Personal_Hygiene</td>\n",
       "      <td>begin</td>\n",
       "    </tr>\n",
       "    <tr>\n",
       "      <th>3</th>\n",
       "      <td>02/02/2009</td>\n",
       "      <td>07:38:34</td>\n",
       "      <td>M36</td>\n",
       "      <td>ON</td>\n",
       "      <td>R1_Personal_Hygiene</td>\n",
       "      <td>end</td>\n",
       "    </tr>\n",
       "    <tr>\n",
       "      <th>4</th>\n",
       "      <td>02/02/2009</td>\n",
       "      <td>07:44:13</td>\n",
       "      <td>M49</td>\n",
       "      <td>ON</td>\n",
       "      <td>R2_Bed_to_Toilet</td>\n",
       "      <td>begin</td>\n",
       "    </tr>\n",
       "    <tr>\n",
       "      <th>...</th>\n",
       "      <td>...</td>\n",
       "      <td>...</td>\n",
       "      <td>...</td>\n",
       "      <td>...</td>\n",
       "      <td>...</td>\n",
       "      <td>...</td>\n",
       "    </tr>\n",
       "    <tr>\n",
       "      <th>1021</th>\n",
       "      <td>03/04/2009</td>\n",
       "      <td>20:40:53</td>\n",
       "      <td>M32</td>\n",
       "      <td>OFF</td>\n",
       "      <td>R1_Work</td>\n",
       "      <td>end</td>\n",
       "    </tr>\n",
       "    <tr>\n",
       "      <th>1022</th>\n",
       "      <td>03/04/2009</td>\n",
       "      <td>23:47:31</td>\n",
       "      <td>M35</td>\n",
       "      <td>OFF</td>\n",
       "      <td>R1_Sleep</td>\n",
       "      <td>begin</td>\n",
       "    </tr>\n",
       "    <tr>\n",
       "      <th>1023</th>\n",
       "      <td>04/04/2009</td>\n",
       "      <td>00:00:49</td>\n",
       "      <td>M48</td>\n",
       "      <td>ON</td>\n",
       "      <td>R2_Sleep</td>\n",
       "      <td>begin</td>\n",
       "    </tr>\n",
       "    <tr>\n",
       "      <th>1024</th>\n",
       "      <td>04/04/2009</td>\n",
       "      <td>07:08:46</td>\n",
       "      <td>M35</td>\n",
       "      <td>OFF</td>\n",
       "      <td>R1_Sleep</td>\n",
       "      <td>end</td>\n",
       "    </tr>\n",
       "    <tr>\n",
       "      <th>1025</th>\n",
       "      <td>04/04/2009</td>\n",
       "      <td>07:28:01</td>\n",
       "      <td>M48</td>\n",
       "      <td>OFF</td>\n",
       "      <td>R2_Sleep</td>\n",
       "      <td>end</td>\n",
       "    </tr>\n",
       "  </tbody>\n",
       "</table>\n",
       "<p>1026 rows × 6 columns</p>\n",
       "</div>"
      ],
      "text/plain": [
       "            date      time type state             location     BE\n",
       "0     02/02/2009  07:15:17  M35    ON     R1_Bed_to_Toilet  begin\n",
       "1     02/02/2009  07:21:04  M41   OFF     R1_Bed_to_Toilet    end\n",
       "2     02/02/2009  07:21:04  M40   OFF  R1_Personal_Hygiene  begin\n",
       "3     02/02/2009  07:38:34  M36    ON  R1_Personal_Hygiene    end\n",
       "4     02/02/2009  07:44:13  M49    ON     R2_Bed_to_Toilet  begin\n",
       "...          ...       ...  ...   ...                  ...    ...\n",
       "1021  03/04/2009  20:40:53  M32   OFF              R1_Work    end\n",
       "1022  03/04/2009  23:47:31  M35   OFF             R1_Sleep  begin\n",
       "1023  04/04/2009  00:00:49  M48    ON             R2_Sleep  begin\n",
       "1024  04/04/2009  07:08:46  M35   OFF             R1_Sleep    end\n",
       "1025  04/04/2009  07:28:01  M48   OFF             R2_Sleep    end\n",
       "\n",
       "[1026 rows x 6 columns]"
      ]
     },
     "execution_count": 333,
     "metadata": {},
     "output_type": "execute_result"
    }
   ],
   "source": [
    "data_ad2m1"
   ]
  },
  {
   "cell_type": "code",
   "execution_count": 332,
   "metadata": {},
   "outputs": [],
   "source": [
    "unique_location = data_ad2m1['location'].unique()"
   ]
  },
  {
   "cell_type": "code",
   "execution_count": 326,
   "metadata": {},
   "outputs": [],
   "source": [
    "x_date  = data_ad2m1['date']\n",
    "x_time  = data_ad2m1['time']\n",
    "x       = x_date + '/' + x_time"
   ]
  },
  {
   "cell_type": "code",
   "execution_count": 327,
   "metadata": {},
   "outputs": [],
   "source": [
    "time_x = pd.to_datetime(x,format= '%d/%m/%Y/%H:%M:%S')"
   ]
  },
  {
   "cell_type": "code",
   "execution_count": 335,
   "metadata": {},
   "outputs": [],
   "source": [
    "data_ad2m1['duration'] = np.nan"
   ]
  },
  {
   "cell_type": "code",
   "execution_count": 336,
   "metadata": {},
   "outputs": [
    {
     "name": "stderr",
     "output_type": "stream",
     "text": [
      "C:\\Users\\karl_\\AppData\\Local\\Temp/ipykernel_23236/1097666344.py:5: SettingWithCopyWarning: \n",
      "A value is trying to be set on a copy of a slice from a DataFrame\n",
      "\n",
      "See the caveats in the documentation: https://pandas.pydata.org/pandas-docs/stable/user_guide/indexing.html#returning-a-view-versus-a-copy\n",
      "  data_ad2m1['duration'][j] = (time_x[j+1] - time_x[j])\n"
     ]
    }
   ],
   "source": [
    "for i in range(len(unique_location)):\n",
    "    for j in range(len(data_ad2m1)):\n",
    "        if data_ad2m1['location'][j] == unique_location[i]:\n",
    "            if data_ad2m1['BE'][j] == 'begin':\n",
    "                data_ad2m1['duration'][j] = (time_x[j+1] - time_x[j])"
   ]
  },
  {
   "cell_type": "code",
   "execution_count": 337,
   "metadata": {},
   "outputs": [
    {
     "data": {
      "text/html": [
       "<div>\n",
       "<style scoped>\n",
       "    .dataframe tbody tr th:only-of-type {\n",
       "        vertical-align: middle;\n",
       "    }\n",
       "\n",
       "    .dataframe tbody tr th {\n",
       "        vertical-align: top;\n",
       "    }\n",
       "\n",
       "    .dataframe thead th {\n",
       "        text-align: right;\n",
       "    }\n",
       "</style>\n",
       "<table border=\"1\" class=\"dataframe\">\n",
       "  <thead>\n",
       "    <tr style=\"text-align: right;\">\n",
       "      <th></th>\n",
       "      <th>date</th>\n",
       "      <th>time</th>\n",
       "      <th>type</th>\n",
       "      <th>state</th>\n",
       "      <th>location</th>\n",
       "      <th>BE</th>\n",
       "      <th>duration</th>\n",
       "    </tr>\n",
       "  </thead>\n",
       "  <tbody>\n",
       "    <tr>\n",
       "      <th>0</th>\n",
       "      <td>02/02/2009</td>\n",
       "      <td>07:15:17</td>\n",
       "      <td>M35</td>\n",
       "      <td>ON</td>\n",
       "      <td>R1_Bed_to_Toilet</td>\n",
       "      <td>begin</td>\n",
       "      <td>0 days 00:05:47</td>\n",
       "    </tr>\n",
       "    <tr>\n",
       "      <th>1</th>\n",
       "      <td>02/02/2009</td>\n",
       "      <td>07:21:04</td>\n",
       "      <td>M41</td>\n",
       "      <td>OFF</td>\n",
       "      <td>R1_Bed_to_Toilet</td>\n",
       "      <td>end</td>\n",
       "      <td>NaN</td>\n",
       "    </tr>\n",
       "    <tr>\n",
       "      <th>2</th>\n",
       "      <td>02/02/2009</td>\n",
       "      <td>07:21:04</td>\n",
       "      <td>M40</td>\n",
       "      <td>OFF</td>\n",
       "      <td>R1_Personal_Hygiene</td>\n",
       "      <td>begin</td>\n",
       "      <td>0 days 00:17:30</td>\n",
       "    </tr>\n",
       "    <tr>\n",
       "      <th>3</th>\n",
       "      <td>02/02/2009</td>\n",
       "      <td>07:38:34</td>\n",
       "      <td>M36</td>\n",
       "      <td>ON</td>\n",
       "      <td>R1_Personal_Hygiene</td>\n",
       "      <td>end</td>\n",
       "      <td>NaN</td>\n",
       "    </tr>\n",
       "    <tr>\n",
       "      <th>4</th>\n",
       "      <td>02/02/2009</td>\n",
       "      <td>07:44:13</td>\n",
       "      <td>M49</td>\n",
       "      <td>ON</td>\n",
       "      <td>R2_Bed_to_Toilet</td>\n",
       "      <td>begin</td>\n",
       "      <td>0 days 00:02:42</td>\n",
       "    </tr>\n",
       "    <tr>\n",
       "      <th>...</th>\n",
       "      <td>...</td>\n",
       "      <td>...</td>\n",
       "      <td>...</td>\n",
       "      <td>...</td>\n",
       "      <td>...</td>\n",
       "      <td>...</td>\n",
       "      <td>...</td>\n",
       "    </tr>\n",
       "    <tr>\n",
       "      <th>1021</th>\n",
       "      <td>03/04/2009</td>\n",
       "      <td>20:40:53</td>\n",
       "      <td>M32</td>\n",
       "      <td>OFF</td>\n",
       "      <td>R1_Work</td>\n",
       "      <td>end</td>\n",
       "      <td>NaN</td>\n",
       "    </tr>\n",
       "    <tr>\n",
       "      <th>1022</th>\n",
       "      <td>03/04/2009</td>\n",
       "      <td>23:47:31</td>\n",
       "      <td>M35</td>\n",
       "      <td>OFF</td>\n",
       "      <td>R1_Sleep</td>\n",
       "      <td>begin</td>\n",
       "      <td>0 days 00:13:18</td>\n",
       "    </tr>\n",
       "    <tr>\n",
       "      <th>1023</th>\n",
       "      <td>04/04/2009</td>\n",
       "      <td>00:00:49</td>\n",
       "      <td>M48</td>\n",
       "      <td>ON</td>\n",
       "      <td>R2_Sleep</td>\n",
       "      <td>begin</td>\n",
       "      <td>0 days 07:07:57</td>\n",
       "    </tr>\n",
       "    <tr>\n",
       "      <th>1024</th>\n",
       "      <td>04/04/2009</td>\n",
       "      <td>07:08:46</td>\n",
       "      <td>M35</td>\n",
       "      <td>OFF</td>\n",
       "      <td>R1_Sleep</td>\n",
       "      <td>end</td>\n",
       "      <td>NaN</td>\n",
       "    </tr>\n",
       "    <tr>\n",
       "      <th>1025</th>\n",
       "      <td>04/04/2009</td>\n",
       "      <td>07:28:01</td>\n",
       "      <td>M48</td>\n",
       "      <td>OFF</td>\n",
       "      <td>R2_Sleep</td>\n",
       "      <td>end</td>\n",
       "      <td>NaN</td>\n",
       "    </tr>\n",
       "  </tbody>\n",
       "</table>\n",
       "<p>1026 rows × 7 columns</p>\n",
       "</div>"
      ],
      "text/plain": [
       "            date      time type state             location     BE  \\\n",
       "0     02/02/2009  07:15:17  M35    ON     R1_Bed_to_Toilet  begin   \n",
       "1     02/02/2009  07:21:04  M41   OFF     R1_Bed_to_Toilet    end   \n",
       "2     02/02/2009  07:21:04  M40   OFF  R1_Personal_Hygiene  begin   \n",
       "3     02/02/2009  07:38:34  M36    ON  R1_Personal_Hygiene    end   \n",
       "4     02/02/2009  07:44:13  M49    ON     R2_Bed_to_Toilet  begin   \n",
       "...          ...       ...  ...   ...                  ...    ...   \n",
       "1021  03/04/2009  20:40:53  M32   OFF              R1_Work    end   \n",
       "1022  03/04/2009  23:47:31  M35   OFF             R1_Sleep  begin   \n",
       "1023  04/04/2009  00:00:49  M48    ON             R2_Sleep  begin   \n",
       "1024  04/04/2009  07:08:46  M35   OFF             R1_Sleep    end   \n",
       "1025  04/04/2009  07:28:01  M48   OFF             R2_Sleep    end   \n",
       "\n",
       "             duration  \n",
       "0     0 days 00:05:47  \n",
       "1                 NaN  \n",
       "2     0 days 00:17:30  \n",
       "3                 NaN  \n",
       "4     0 days 00:02:42  \n",
       "...               ...  \n",
       "1021              NaN  \n",
       "1022  0 days 00:13:18  \n",
       "1023  0 days 07:07:57  \n",
       "1024              NaN  \n",
       "1025              NaN  \n",
       "\n",
       "[1026 rows x 7 columns]"
      ]
     },
     "execution_count": 337,
     "metadata": {},
     "output_type": "execute_result"
    }
   ],
   "source": [
    "data_ad2m1"
   ]
  },
  {
   "cell_type": "code",
   "execution_count": 338,
   "metadata": {},
   "outputs": [],
   "source": [
    "data_ad2m1.to_csv('zofia.csv')"
   ]
  }
 ],
 "metadata": {
  "interpreter": {
   "hash": "f27c41b7d2a71d2d4a8dbe9515edc9e41807ac398cdae50069cbc2f139231e07"
  },
  "kernelspec": {
   "display_name": "Python 3.8.12 ('iot')",
   "language": "python",
   "name": "python3"
  },
  "language_info": {
   "codemirror_mode": {
    "name": "ipython",
    "version": 3
   },
   "file_extension": ".py",
   "mimetype": "text/x-python",
   "name": "python",
   "nbconvert_exporter": "python",
   "pygments_lexer": "ipython3",
   "version": "3.8.12"
  },
  "orig_nbformat": 4
 },
 "nbformat": 4,
 "nbformat_minor": 2
}
